{
 "cells": [
  {
   "cell_type": "markdown",
   "id": "78130b84",
   "metadata": {},
   "source": [
    "## Build Simple RNN Model"
   ]
  },
  {
   "cell_type": "code",
   "execution_count": 1,
   "id": "232c3e28",
   "metadata": {},
   "outputs": [],
   "source": [
    "import numpy as np\n",
    "from tensorflow.keras.models import Sequential\n",
    "from tensorflow.keras.layers import Dense,SimpleRNN"
   ]
  },
  {
   "cell_type": "code",
   "execution_count": 4,
   "id": "53488de8",
   "metadata": {},
   "outputs": [],
   "source": [
    "def build_rnn_model(hidden_units, dense_units, input_shape, activation):\n",
    "    model = Sequential()\n",
    "    model.add(SimpleRNN(hidden_units,input_shape=input_shape,activation=activation[0]))\n",
    "    model.add(Dense(dense_units, activation=activation[1]))\n",
    "    model.compile(loss='mean_squared_error',optimizer='adam')\n",
    "    return model"
   ]
  },
  {
   "cell_type": "code",
   "execution_count": 5,
   "id": "2529a477",
   "metadata": {},
   "outputs": [],
   "source": [
    "model = build_rnn_model(2,1,(3,1),activation=['linear', 'linear'])"
   ]
  },
  {
   "cell_type": "code",
   "execution_count": 8,
   "id": "82b0e877",
   "metadata": {},
   "outputs": [],
   "source": [
    "wx = model.get_weights()[0]\n",
    "wh = model.get_weights()[1]\n",
    "bh = model.get_weights()[2]\n",
    "wy = model.get_weights()[3]\n",
    "by = model.get_weights()[4]"
   ]
  },
  {
   "cell_type": "code",
   "execution_count": 9,
   "id": "277862ec",
   "metadata": {},
   "outputs": [
    {
     "name": "stdout",
     "output_type": "stream",
     "text": [
      "wx =  [[-0.46695775 -0.4863497 ]]  wh =  [[-0.05584204 -0.99843955]\n",
      " [ 0.99843955 -0.05584216]]  bh =  [0. 0.]  wy = [[-0.12898588]\n",
      " [ 0.54036975]] by =  [0.]\n"
     ]
    }
   ],
   "source": [
    "print('wx = ', wx, ' wh = ', wh, ' bh = ', bh, ' wy =', wy, 'by = ', by)"
   ]
  },
  {
   "cell_type": "code",
   "execution_count": 12,
   "id": "359abecb",
   "metadata": {},
   "outputs": [],
   "source": [
    "x = np.array([1,2,3])"
   ]
  },
  {
   "cell_type": "code",
   "execution_count": 13,
   "id": "c6d27177",
   "metadata": {},
   "outputs": [],
   "source": [
    "x_input = np.reshape(x,(1,3,1))"
   ]
  },
  {
   "cell_type": "code",
   "execution_count": 17,
   "id": "85ae355b",
   "metadata": {},
   "outputs": [
    {
     "data": {
      "text/plain": [
       "(1, 3, 1)"
      ]
     },
     "execution_count": 17,
     "metadata": {},
     "output_type": "execute_result"
    }
   ],
   "source": [
    "x_input.shape"
   ]
  },
  {
   "cell_type": "code",
   "execution_count": 18,
   "id": "c992eb14",
   "metadata": {},
   "outputs": [],
   "source": [
    "y_pred = model.predict(x_input)"
   ]
  },
  {
   "cell_type": "code",
   "execution_count": 19,
   "id": "b2186511",
   "metadata": {},
   "outputs": [
    {
     "data": {
      "text/plain": [
       "array([[0.21021432]], dtype=float32)"
      ]
     },
     "execution_count": 19,
     "metadata": {},
     "output_type": "execute_result"
    }
   ],
   "source": [
    "y_pred"
   ]
  },
  {
   "cell_type": "code",
   "execution_count": 26,
   "id": "11bfb0ec",
   "metadata": {},
   "outputs": [],
   "source": [
    "m = 2\n",
    "h0 = np.zeros(m)\n",
    "h1 = np.dot(x[0],wx)+np.dot(h0,wh)+bh\n",
    "h2 = np.dot(x[1],wx)+np.dot(h1,wh)+bh\n",
    "h3 = np.dot(x[2],wx)+np.dot(h2,wh)+bh\n",
    "o3 = np.dot(h3,wy)+by"
   ]
  },
  {
   "cell_type": "code",
   "execution_count": 27,
   "id": "918124f8",
   "metadata": {},
   "outputs": [
    {
     "data": {
      "text/plain": [
       "array([[0.21021426]])"
      ]
     },
     "execution_count": 27,
     "metadata": {},
     "output_type": "execute_result"
    }
   ],
   "source": [
    "o3"
   ]
  },
  {
   "cell_type": "code",
   "execution_count": 31,
   "id": "e11d4f02",
   "metadata": {},
   "outputs": [
    {
     "ename": "AssertionError",
     "evalue": "",
     "output_type": "error",
     "traceback": [
      "\u001b[0;31m---------------------------------------------------------------------------\u001b[0m",
      "\u001b[0;31mAssertionError\u001b[0m                            Traceback (most recent call last)",
      "Input \u001b[0;32mIn [31]\u001b[0m, in \u001b[0;36m<module>\u001b[0;34m\u001b[0m\n\u001b[0;32m----> 1\u001b[0m \u001b[38;5;28;01massert\u001b[39;00m o3[\u001b[38;5;241m0\u001b[39m]\u001b[38;5;241m==\u001b[39my_pred[\u001b[38;5;241m0\u001b[39m]\n",
      "\u001b[0;31mAssertionError\u001b[0m: "
     ]
    }
   ],
   "source": [
    "assert o3[0]==y_pred[0]"
   ]
  },
  {
   "cell_type": "code",
   "execution_count": null,
   "id": "d8349756",
   "metadata": {},
   "outputs": [],
   "source": []
  }
 ],
 "metadata": {
  "kernelspec": {
   "display_name": "Python 3",
   "language": "python",
   "name": "python3"
  },
  "language_info": {
   "codemirror_mode": {
    "name": "ipython",
    "version": 3
   },
   "file_extension": ".py",
   "mimetype": "text/x-python",
   "name": "python",
   "nbconvert_exporter": "python",
   "pygments_lexer": "ipython3",
   "version": "3.9.5"
  }
 },
 "nbformat": 4,
 "nbformat_minor": 5
}
