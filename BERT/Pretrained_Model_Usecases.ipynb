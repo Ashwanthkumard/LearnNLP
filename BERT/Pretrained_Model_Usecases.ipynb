{
 "cells": [
  {
   "cell_type": "markdown",
   "id": "72774b79",
   "metadata": {},
   "source": [
    "# BERT For Text Summerization"
   ]
  },
  {
   "cell_type": "markdown",
   "id": "66252dbf",
   "metadata": {},
   "source": [
    "Using pretrained model for text summerization"
   ]
  },
  {
   "cell_type": "code",
   "execution_count": 3,
   "id": "458a0dcb",
   "metadata": {},
   "outputs": [],
   "source": [
    "# Install the pre trained bert model\n",
    "# !pip install bert-extractive-summarizer"
   ]
  },
  {
   "cell_type": "code",
   "execution_count": 9,
   "id": "83e694c9",
   "metadata": {},
   "outputs": [],
   "source": [
    "from summarizer import Summarizer"
   ]
  },
  {
   "cell_type": "code",
   "execution_count": 10,
   "id": "ef42f918",
   "metadata": {},
   "outputs": [],
   "source": [
    "text = \"\"\"Bard is Google's response to the surging interest in chatbots thanks to the popularity of ChatGPT, which has captured the interest of users thanks to its human-like responses and easy interface. Bard and ChatGPT, and another developed by China's Baidu, represent a potential next step in how we interact with AI and technology, potentially changing everything from search to work. Microsoft is expected to host an event today to discuss its own integration with OpenAI's ChatGPT.\n",
    "Google talked up its own system on Monday. Powering Bard is its Language Model for Dialogue Applications, aka LaMDA. The company says its new AI will use information on the web to make novel responses -- creative or detailed or sometimes both -- to questions.\n",
    "Bard will be available Monday to selected testers and then to the public in the coming weeks.\n",
    "Bard is based on a lightweight version of LaMDA that uses less computing power, allowing it to scale to more people and provide additional feedback, according to a blog post by CEO Sundar Pichai. That feedback, Pichai said, will be critical to meeting Google's \"high bar for quality, safety and groundedness in real-world information.\"\n",
    "The goal is not to monetize Bard at the moment, according to a Google spokesperson. The company didn't share details on ads or how Bard could be monetized in the future. The Google spokesperson said the company wants a healthy online ecosystem, and as it develops AI tools, sending search traffic to creators and news publishers will be a priority\"\"\""
   ]
  },
  {
   "cell_type": "code",
   "execution_count": 11,
   "id": "191c18f7",
   "metadata": {},
   "outputs": [
    {
     "name": "stderr",
     "output_type": "stream",
     "text": [
      "Some weights of the model checkpoint at distilbert-base-uncased were not used when initializing DistilBertModel: ['vocab_layer_norm.weight', 'vocab_layer_norm.bias', 'vocab_transform.weight', 'vocab_projector.bias', 'vocab_transform.bias', 'vocab_projector.weight']\n",
      "- This IS expected if you are initializing DistilBertModel from the checkpoint of a model trained on another task or with another architecture (e.g. initializing a BertForSequenceClassification model from a BertForPreTraining model).\n",
      "- This IS NOT expected if you are initializing DistilBertModel from the checkpoint of a model that you expect to be exactly identical (initializing a BertForSequenceClassification model from a BertForSequenceClassification model).\n"
     ]
    },
    {
     "name": "stdout",
     "output_type": "stream",
     "text": [
      "Bard is Google's response to the surging interest in chatbots thanks to the popularity of ChatGPT, which has captured the interest of users thanks to its human-like responses and easy interface. Bard and ChatGPT, and another developed by China's Baidu, represent a potential next step in how we interact with AI and technology, potentially changing everything from search to work. The company didn't share details on ads or how Bard could be monetized in the future.\n"
     ]
    }
   ],
   "source": [
    "model = Summarizer('distilbert-base-uncased') \n",
    "result = model(text, num_sentences=3) \n",
    "print(result)"
   ]
  },
  {
   "cell_type": "markdown",
   "id": "eb18a448",
   "metadata": {},
   "source": [
    "# BERT For Question Answering"
   ]
  },
  {
   "cell_type": "code",
   "execution_count": 12,
   "id": "b1480e5f",
   "metadata": {},
   "outputs": [],
   "source": [
    "from transformers import pipeline"
   ]
  },
  {
   "cell_type": "code",
   "execution_count": 20,
   "id": "d0282985",
   "metadata": {},
   "outputs": [],
   "source": [
    "text = \"\"\"Bard is Google's response to the surging interest in chatbots thanks to the popularity of ChatGPT, which has captured the interest of users thanks to its human-like responses and easy interface. Bard and ChatGPT, and another developed by China's Baidu, represent a potential next step in how we interact with AI and technology, potentially changing everything from search to work. Microsoft is expected to host an event today to discuss its own integration with OpenAI's ChatGPT.\n",
    "Google talked up its own system on Monday. Powering Bard is its Language Model for Dialogue Applications, aka LaMDA. The company says its new AI will use information on the web to make novel responses -- creative or detailed or sometimes both -- to questions.\n",
    "Bard will be available Monday to selected testers and then to the public in the coming weeks.\n",
    "Bard is based on a lightweight version of LaMDA that uses less computing power, allowing it to scale to more people and provide additional feedback, according to a blog post by CEO Sundar Pichai. That feedback, Pichai said, will be critical to meeting Google's \"high bar for quality, safety and groundedness in real-world information.\"\n",
    "The goal is not to monetize Bard at the moment, according to a Google spokesperson. The company didn't share details on ads or how Bard could be monetized in the future. The Google spokesperson said the company wants a healthy online ecosystem, and as it develops AI tools, sending search traffic to creators and news publishers will be a priority\"\"\""
   ]
  },
  {
   "cell_type": "code",
   "execution_count": 17,
   "id": "1f6b7a0a",
   "metadata": {},
   "outputs": [],
   "source": [
    "question = \"what is Googles Bard do?\""
   ]
  },
  {
   "cell_type": "code",
   "execution_count": 18,
   "id": "5e16f6cf",
   "metadata": {},
   "outputs": [
    {
     "name": "stdout",
     "output_type": "stream",
     "text": [
      "{'score': 0.869561493396759, 'start': 17, 'end': 61, 'answer': 'response to the surging interest in chatbots'}\n"
     ]
    }
   ],
   "source": [
    "answering = pipeline(\"question-answering\",\n",
    "                      model='distilbert-base-uncased-distilled-squad')\n",
    "result = answering(question=question, context=text)\n",
    "print(result)"
   ]
  },
  {
   "cell_type": "code",
   "execution_count": null,
   "id": "358bc7c7",
   "metadata": {},
   "outputs": [],
   "source": []
  },
  {
   "cell_type": "code",
   "execution_count": null,
   "id": "f215a8a2",
   "metadata": {},
   "outputs": [],
   "source": []
  }
 ],
 "metadata": {
  "kernelspec": {
   "display_name": "Python 3",
   "language": "python",
   "name": "python3"
  },
  "language_info": {
   "codemirror_mode": {
    "name": "ipython",
    "version": 3
   },
   "file_extension": ".py",
   "mimetype": "text/x-python",
   "name": "python",
   "nbconvert_exporter": "python",
   "pygments_lexer": "ipython3",
   "version": "3.9.5"
  }
 },
 "nbformat": 4,
 "nbformat_minor": 5
}
