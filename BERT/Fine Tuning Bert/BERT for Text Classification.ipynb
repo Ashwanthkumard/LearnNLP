{
 "cells": [
  {
   "cell_type": "markdown",
   "id": "53ab4aa2",
   "metadata": {},
   "source": [
    "# Quora insincere Question Classification"
   ]
  },
  {
   "cell_type": "markdown",
   "id": "50d38039",
   "metadata": {},
   "source": [
    "Kaggle - https://www.kaggle.com/c/quora-insincere-questions-classification"
   ]
  },
  {
   "cell_type": "code",
   "execution_count": 1,
   "id": "3ae970b2",
   "metadata": {},
   "outputs": [
    {
     "name": "stdout",
     "output_type": "stream",
     "text": [
      "2.7.0\n"
     ]
    }
   ],
   "source": [
    "import tensorflow as tf\n",
    "print(tf.version.VERSION)"
   ]
  },
  {
   "cell_type": "code",
   "execution_count": 2,
   "id": "c818b377",
   "metadata": {},
   "outputs": [
    {
     "name": "stdout",
     "output_type": "stream",
     "text": [
      "Cloning into 'models'...\n",
      "remote: Enumerating objects: 2650, done.\u001b[K\n",
      "remote: Counting objects: 100% (2650/2650), done.\u001b[K\n",
      "remote: Compressing objects: 100% (2311/2311), done.\u001b[K\n",
      "remote: Total 2650 (delta 505), reused 1389 (delta 306), pack-reused 0\u001b[K\n",
      "Receiving objects: 100% (2650/2650), 34.02 MiB | 20.02 MiB/s, done.\n",
      "Resolving deltas: 100% (505/505), done.\n",
      "Note: switching to '400d68abbccda2f0f6609e3a924467718b144233'.\n",
      "\n",
      "You are in 'detached HEAD' state. You can look around, make experimental\n",
      "changes and commit them, and you can discard any commits you make in this\n",
      "state without impacting any branches by switching back to a branch.\n",
      "\n",
      "If you want to create a new branch to retain commits you create, you may\n",
      "do so (now or later) by using -c with the switch command. Example:\n",
      "\n",
      "  git switch -c <new-branch-name>\n",
      "\n",
      "Or undo this operation with:\n",
      "\n",
      "  git switch -\n",
      "\n",
      "Turn off this advice by setting config variable advice.detachedHead to false\n",
      "\n",
      "Updating files: 100% (2554/2554), done.\n"
     ]
    }
   ],
   "source": [
    "!git clone --depth 1 -b v2.3.0 https://github.com/tensorflow/models.git"
   ]
  },
  {
   "cell_type": "code",
   "execution_count": 2,
   "id": "38240ce5",
   "metadata": {},
   "outputs": [],
   "source": [
    "# install requirements to use tensorflow/models repository\n",
    "!pip install -Uqr models/official/requirements.txt\n",
    "# you may have to restart the runtime afterwards"
   ]
  },
  {
   "cell_type": "code",
   "execution_count": 14,
   "id": "10b78d3d",
   "metadata": {},
   "outputs": [],
   "source": [
    "import pandas as pd\n",
    "from sklearn.model_selection import train_test_split\n"
   ]
  },
  {
   "cell_type": "code",
   "execution_count": 1,
   "id": "90bf3926",
   "metadata": {
    "scrolled": true
   },
   "outputs": [
    {
     "name": "stderr",
     "output_type": "stream",
     "text": [
      "/Users/a.daggula/opt/miniconda3/lib/python3.9/site-packages/tensorflow_addons/utils/ensure_tf_install.py:53: UserWarning: Tensorflow Addons supports using Python ops for all Tensorflow versions above or equal to 2.9.0 and strictly below 2.12.0 (nightly versions are not supported). \n",
      " The versions of TensorFlow you are currently using is 2.7.0 and is not supported. \n",
      "Some things might work, some things might not.\n",
      "If you were to encounter a bug, do not file an issue.\n",
      "If you want to make sure you're using a tested and supported configuration, either change the TensorFlow version or the TensorFlow Addons's version. \n",
      "You can find the compatibility matrix in TensorFlow Addon's readme:\n",
      "https://github.com/tensorflow/addons\n",
      "  warnings.warn(\n"
     ]
    }
   ],
   "source": [
    "import numpy as np\n",
    "import tensorflow as tf\n",
    "import tensorflow_hub as hub\n",
    "import sys\n",
    "sys.path.append('models')\n",
    "from official.nlp.data import classifier_data_lib\n",
    "from official.nlp.bert import tokenization\n",
    "from official.nlp import optimization"
   ]
  },
  {
   "cell_type": "code",
   "execution_count": 4,
   "id": "c33a8fc9",
   "metadata": {},
   "outputs": [
    {
     "name": "stdout",
     "output_type": "stream",
     "text": [
      "TF Version:  2.7.0\n",
      "Eager mode:  True\n",
      "Hub version:  0.12.0\n",
      "GPU is NOT AVAILABLE\n"
     ]
    }
   ],
   "source": [
    "print(\"TF Version: \", tf.__version__)\n",
    "print(\"Eager mode: \", tf.executing_eagerly())\n",
    "print(\"Hub version: \", hub.__version__)\n",
    "print(\"GPU is\", \"available\" if tf.config.experimental.list_physical_devices(\"GPU\") else \"NOT AVAILABLE\")"
   ]
  },
  {
   "cell_type": "markdown",
   "id": "cde7dc64",
   "metadata": {},
   "source": [
    "A downloadable copy of the Quora Insincere Questions Classification data can be found https://archive.org/download/fine-tune-bert-tensorflow-train.csv/train.csv.zip. Decompress and read the data into a pandas DataFrame."
   ]
  },
  {
   "cell_type": "code",
   "execution_count": 3,
   "id": "5ebfcff6",
   "metadata": {},
   "outputs": [],
   "source": [
    "dataset = '/Users/a.daggula/Downloads/train.csv'"
   ]
  },
  {
   "cell_type": "code",
   "execution_count": 18,
   "id": "2f243f3c",
   "metadata": {},
   "outputs": [],
   "source": [
    "df = pd.read_csv(dataset,nrows=10000)"
   ]
  },
  {
   "cell_type": "code",
   "execution_count": 19,
   "id": "6187a33c",
   "metadata": {},
   "outputs": [
    {
     "data": {
      "text/html": [
       "<div>\n",
       "<style scoped>\n",
       "    .dataframe tbody tr th:only-of-type {\n",
       "        vertical-align: middle;\n",
       "    }\n",
       "\n",
       "    .dataframe tbody tr th {\n",
       "        vertical-align: top;\n",
       "    }\n",
       "\n",
       "    .dataframe thead th {\n",
       "        text-align: right;\n",
       "    }\n",
       "</style>\n",
       "<table border=\"1\" class=\"dataframe\">\n",
       "  <thead>\n",
       "    <tr style=\"text-align: right;\">\n",
       "      <th></th>\n",
       "      <th>qid</th>\n",
       "      <th>question_text</th>\n",
       "      <th>target</th>\n",
       "    </tr>\n",
       "  </thead>\n",
       "  <tbody>\n",
       "    <tr>\n",
       "      <th>0</th>\n",
       "      <td>00002165364db923c7e6</td>\n",
       "      <td>How did Quebec nationalists see their province...</td>\n",
       "      <td>0</td>\n",
       "    </tr>\n",
       "    <tr>\n",
       "      <th>1</th>\n",
       "      <td>000032939017120e6e44</td>\n",
       "      <td>Do you have an adopted dog, how would you enco...</td>\n",
       "      <td>0</td>\n",
       "    </tr>\n",
       "    <tr>\n",
       "      <th>2</th>\n",
       "      <td>0000412ca6e4628ce2cf</td>\n",
       "      <td>Why does velocity affect time? Does velocity a...</td>\n",
       "      <td>0</td>\n",
       "    </tr>\n",
       "    <tr>\n",
       "      <th>3</th>\n",
       "      <td>000042bf85aa498cd78e</td>\n",
       "      <td>How did Otto von Guericke used the Magdeburg h...</td>\n",
       "      <td>0</td>\n",
       "    </tr>\n",
       "    <tr>\n",
       "      <th>4</th>\n",
       "      <td>0000455dfa3e01eae3af</td>\n",
       "      <td>Can I convert montra helicon D to a mountain b...</td>\n",
       "      <td>0</td>\n",
       "    </tr>\n",
       "  </tbody>\n",
       "</table>\n",
       "</div>"
      ],
      "text/plain": [
       "                    qid                                      question_text  \\\n",
       "0  00002165364db923c7e6  How did Quebec nationalists see their province...   \n",
       "1  000032939017120e6e44  Do you have an adopted dog, how would you enco...   \n",
       "2  0000412ca6e4628ce2cf  Why does velocity affect time? Does velocity a...   \n",
       "3  000042bf85aa498cd78e  How did Otto von Guericke used the Magdeburg h...   \n",
       "4  0000455dfa3e01eae3af  Can I convert montra helicon D to a mountain b...   \n",
       "\n",
       "   target  \n",
       "0       0  \n",
       "1       0  \n",
       "2       0  \n",
       "3       0  \n",
       "4       0  "
      ]
     },
     "execution_count": 19,
     "metadata": {},
     "output_type": "execute_result"
    }
   ],
   "source": [
    "df.head()"
   ]
  },
  {
   "cell_type": "code",
   "execution_count": 20,
   "id": "797d63d0",
   "metadata": {},
   "outputs": [
    {
     "data": {
      "text/plain": [
       "0    9363\n",
       "1     637\n",
       "Name: target, dtype: int64"
      ]
     },
     "execution_count": 20,
     "metadata": {},
     "output_type": "execute_result"
    }
   ],
   "source": [
    "df['target'].value_counts()"
   ]
  },
  {
   "cell_type": "markdown",
   "id": "f109264d",
   "metadata": {},
   "source": [
    "### Split the train and test datasets"
   ]
  },
  {
   "cell_type": "code",
   "execution_count": 23,
   "id": "661a273b",
   "metadata": {},
   "outputs": [],
   "source": [
    "train_df, remaining = train_test_split(df, random_state=42, train_size=0.70, stratify=df.target.values)\n",
    "valid_df, _ = train_test_split(remaining, random_state=42, train_size=0.60, stratify=remaining.target.values)"
   ]
  },
  {
   "cell_type": "code",
   "execution_count": 24,
   "id": "049dc772",
   "metadata": {},
   "outputs": [
    {
     "data": {
      "text/plain": [
       "((7000, 3), (1800, 3))"
      ]
     },
     "execution_count": 24,
     "metadata": {},
     "output_type": "execute_result"
    }
   ],
   "source": [
    "train_df.shape, valid_df.shape"
   ]
  },
  {
   "cell_type": "code",
   "execution_count": 25,
   "id": "94f7c3a6",
   "metadata": {},
   "outputs": [
    {
     "data": {
      "text/plain": [
       "(0    6554\n",
       " 1     446\n",
       " Name: target, dtype: int64,\n",
       " 0    1685\n",
       " 1     115\n",
       " Name: target, dtype: int64)"
      ]
     },
     "execution_count": 25,
     "metadata": {},
     "output_type": "execute_result"
    }
   ],
   "source": [
    "train_df['target'].value_counts(), valid_df['target'].value_counts()"
   ]
  },
  {
   "cell_type": "code",
   "execution_count": 27,
   "id": "079d5f22",
   "metadata": {},
   "outputs": [
    {
     "name": "stdout",
     "output_type": "stream",
     "text": [
      "tf.Tensor(b\"What's the route to become a professional football player in India?\", shape=(), dtype=string) tf.Tensor(0, shape=(), dtype=int64)\n"
     ]
    }
   ],
   "source": [
    "with tf.device('/cpu:0'):\n",
    "    train_data = tf.data.Dataset.from_tensor_slices((train_df['question_text'].values, train_df['target'].values))\n",
    "    valid_data = tf.data.Dataset.from_tensor_slices((valid_df['question_text'].values, valid_df['target'].values))\n",
    "    \n",
    "    for text, label in train_data.take(1):\n",
    "        print(text,label)\n",
    "    "
   ]
  },
  {
   "cell_type": "markdown",
   "id": "513f0986",
   "metadata": {},
   "source": [
    "#### Downlaod Pre-trained Bert Model from Tensorflow Hub"
   ]
  },
  {
   "cell_type": "markdown",
   "id": "8bcf9a87",
   "metadata": {},
   "source": [
    "Get BERT layer and tokenizer:               \n",
    "More details here: https://tfhub.dev/tensorflow/bert_en_uncased_L-12_H-768_A-12/2"
   ]
  },
  {
   "cell_type": "code",
   "execution_count": 30,
   "id": "9d20c941",
   "metadata": {},
   "outputs": [],
   "source": [
    "labels = [0, 1] # Target classes\n",
    "max_seq_length = 64 # Maximum seq length of the question\n",
    "train_batch_size = 16"
   ]
  },
  {
   "cell_type": "code",
   "execution_count": 33,
   "id": "52ea94a1",
   "metadata": {},
   "outputs": [],
   "source": [
    "bert_layer = hub.KerasLayer('https://tfhub.dev/tensorflow/bert_en_uncased_L-12_H-768_A-12/2', trainable=True)\n",
    "vocab_file = bert_layer.resolved_object.vocab_file.asset_path.numpy()\n",
    "do_lower_case = bert_layer.resolved_object.do_lower_case.numpy()\n",
    "tokenizer = tokenization.FullTokenizer(vocab_file, do_lower_case)"
   ]
  },
  {
   "cell_type": "markdown",
   "id": "4e5f8e6e",
   "metadata": {},
   "source": [
    "#### Tokenize and Process Data for BERT"
   ]
  },
  {
   "cell_type": "code",
   "execution_count": 34,
   "id": "1a034961",
   "metadata": {},
   "outputs": [],
   "source": [
    "def text_to_feature(text, label, \n",
    "                    label_list=labels, \n",
    "                    max_sequence_length=max_seq_length,\n",
    "                    tokenizer=tokenizer):\n",
    "    example = classifier_data_lib.InputExample(guid=None,\n",
    "                                              text_a = text.numpy(),\n",
    "                                              text_b = None,\n",
    "                                              label = label.numpy())\n",
    "    feature = classifier_data_lib.convert_single_example(0,example, label_list, max_seq_length, tokenizer)\n",
    "    \n",
    "    return (feature.input_ids, feature.input_mask, feature.segment_ids, feature.label_id)"
   ]
  },
  {
   "cell_type": "markdown",
   "id": "74c15c14",
   "metadata": {},
   "source": [
    "#### Wrap a Python Function into a Tensorflow op for Eager Execution"
   ]
  },
  {
   "cell_type": "code",
   "execution_count": 41,
   "id": "39668dfe",
   "metadata": {},
   "outputs": [],
   "source": [
    "def text_to_feature_map(text,label):\n",
    "    input_ids, input_mask, segment_ids, label_id = tf.py_function(text_to_feature, inp=[text, label],\n",
    "                                                                 Tout=[tf.int32,tf.int32,tf.int32,tf.int32])\n",
    "    input_ids.set_shape([max_seq_length])\n",
    "    input_mask.set_shape([max_seq_length])\n",
    "    segment_ids.set_shape([max_seq_length])\n",
    "    label_id.set_shape([])\n",
    "    \n",
    "    x = {\n",
    "        'input_word_ids': input_ids,\n",
    "        'input_mask': input_mask,\n",
    "        'input_type_ids': segment_ids,\n",
    "    }\n",
    "    return (x,label_id)"
   ]
  },
  {
   "cell_type": "markdown",
   "id": "abda6af1",
   "metadata": {},
   "source": [
    "#### Create a Tensorflow Input Pipeline with tf.data"
   ]
  },
  {
   "cell_type": "code",
   "execution_count": 42,
   "id": "0ba22bb3",
   "metadata": {},
   "outputs": [],
   "source": [
    "with tf.device('/cpu:0'):\n",
    "    #train \n",
    "    train_data = (train_data.map(text_to_feature_map,num_parallel_calls=tf.data.experimental.AUTOTUNE)\n",
    "                  .shuffle(1000)\n",
    "                  .batch(32, drop_remainder=True)\n",
    "                  .prefetch(tf.data.experimental.AUTOTUNE))\n",
    "    #valid \n",
    "    valid_data = (valid_data.map(text_to_feature_map,num_parallel_calls=tf.data.experimental.AUTOTUNE)\n",
    "                  .shuffle(1000)\n",
    "                  .batch(32, drop_remainder=True)\n",
    "                  .prefetch(tf.data.experimental.AUTOTUNE))"
   ]
  },
  {
   "cell_type": "code",
   "execution_count": 43,
   "id": "ce829308",
   "metadata": {},
   "outputs": [
    {
     "data": {
      "text/plain": [
       "({'input_word_ids': TensorSpec(shape=(32, 64), dtype=tf.int32, name=None),\n",
       "  'input_mask': TensorSpec(shape=(32, 64), dtype=tf.int32, name=None),\n",
       "  'input_type_ids': TensorSpec(shape=(32, 64), dtype=tf.int32, name=None)},\n",
       " TensorSpec(shape=(32,), dtype=tf.int32, name=None))"
      ]
     },
     "execution_count": 43,
     "metadata": {},
     "output_type": "execute_result"
    }
   ],
   "source": [
    "#train data spec\n",
    "train_data.element_spec"
   ]
  },
  {
   "cell_type": "code",
   "execution_count": 44,
   "id": "6b618498",
   "metadata": {},
   "outputs": [
    {
     "data": {
      "text/plain": [
       "({'input_word_ids': TensorSpec(shape=(32, 64), dtype=tf.int32, name=None),\n",
       "  'input_mask': TensorSpec(shape=(32, 64), dtype=tf.int32, name=None),\n",
       "  'input_type_ids': TensorSpec(shape=(32, 64), dtype=tf.int32, name=None)},\n",
       " TensorSpec(shape=(32,), dtype=tf.int32, name=None))"
      ]
     },
     "execution_count": 44,
     "metadata": {},
     "output_type": "execute_result"
    }
   ],
   "source": [
    "#valid data spec\n",
    "valid_data.element_spec"
   ]
  },
  {
   "cell_type": "markdown",
   "id": "9350d42b",
   "metadata": {},
   "source": [
    "### Add Classification Head to Bert Layer"
   ]
  },
  {
   "cell_type": "code",
   "execution_count": 52,
   "id": "8ab52a89",
   "metadata": {},
   "outputs": [],
   "source": [
    "def create_model():\n",
    "    input_word_ids = tf.keras.layers.Input(shape=(max_seq_length,), dtype=tf.int32, name='input_word_ids')\n",
    "    input_mask = tf.keras.layers.Input(shape=(max_seq_length,), dtype=tf.int32, name='input_mask')\n",
    "    input_type_ids = tf.keras.layers.Input(shape=(max_seq_length,), dtype=tf.int32, name='input_type_ids')\n",
    "    \n",
    "    pooled_output, sequence_output = bert_layer([input_word_ids, input_mask, input_type_ids])\n",
    "    \n",
    "    drop = tf.keras.layers.Dropout(0.4)(pooled_output)\n",
    "    output = tf.keras.layers.Dense(1, activation='sigmoid', name='output')(drop)\n",
    "    \n",
    "    model = tf.keras.Model(\n",
    "        inputs = {\n",
    "            'input_word_ids':input_word_ids,\n",
    "            'input_mask':input_mask,\n",
    "            'input_type_ids':input_type_ids\n",
    "        },\n",
    "        outputs=output)\n",
    "    return model"
   ]
  },
  {
   "cell_type": "markdown",
   "id": "dd5d53d0",
   "metadata": {},
   "source": [
    "#### Fine Tune the Model"
   ]
  },
  {
   "cell_type": "code",
   "execution_count": 53,
   "id": "ff2eeed4",
   "metadata": {},
   "outputs": [
    {
     "name": "stdout",
     "output_type": "stream",
     "text": [
      "Model: \"model\"\n",
      "__________________________________________________________________________________________________\n",
      " Layer (type)                   Output Shape         Param #     Connected to                     \n",
      "==================================================================================================\n",
      " input_word_ids (InputLayer)    [(None, 64)]         0           []                               \n",
      "                                                                                                  \n",
      " input_mask (InputLayer)        [(None, 64)]         0           []                               \n",
      "                                                                                                  \n",
      " input_type_ids (InputLayer)    [(None, 64)]         0           []                               \n",
      "                                                                                                  \n",
      " keras_layer_1 (KerasLayer)     [(None, 768),        109482241   ['input_word_ids[0][0]',         \n",
      "                                 (None, 64, 768)]                 'input_mask[0][0]',             \n",
      "                                                                  'input_type_ids[0][0]']         \n",
      "                                                                                                  \n",
      " dropout (Dropout)              (None, 768)          0           ['keras_layer_1[0][0]']          \n",
      "                                                                                                  \n",
      " output (Dense)                 (None, 1)            769         ['dropout[0][0]']                \n",
      "                                                                                                  \n",
      "==================================================================================================\n",
      "Total params: 109,483,010\n",
      "Trainable params: 109,483,009\n",
      "Non-trainable params: 1\n",
      "__________________________________________________________________________________________________\n"
     ]
    }
   ],
   "source": [
    "model = create_model()\n",
    "model.compile(optimizer=tf.keras.optimizers.Adam(learning_rate=2e-5),\n",
    "             loss = tf.keras.losses.BinaryCrossentropy(),\n",
    "             metrics = [tf.keras.metrics.BinaryAccuracy()])\n",
    "model.summary()"
   ]
  },
  {
   "cell_type": "code",
   "execution_count": 57,
   "id": "0d9ca865",
   "metadata": {},
   "outputs": [],
   "source": [
    "# tf.keras.utils.plot_model(model=model, show_shapes=True, dpi=76)"
   ]
  },
  {
   "cell_type": "code",
   "execution_count": 59,
   "id": "cf1d9852",
   "metadata": {},
   "outputs": [
    {
     "name": "stdout",
     "output_type": "stream",
     "text": [
      "218/218 [==============================] - 40015s 184s/step - loss: 0.1842 - binary_accuracy: 0.9339 - val_loss: 0.1372 - val_binary_accuracy: 0.9487\n"
     ]
    }
   ],
   "source": [
    "epochs = 1\n",
    "history = model.fit(train_data, \n",
    "                    validation_data=valid_data,\n",
    "                    epochs= epochs,\n",
    "                    verbose=1)"
   ]
  },
  {
   "cell_type": "code",
   "execution_count": null,
   "id": "5fb66d87",
   "metadata": {},
   "outputs": [],
   "source": []
  }
 ],
 "metadata": {
  "kernelspec": {
   "display_name": "Python 3",
   "language": "python",
   "name": "python3"
  },
  "language_info": {
   "codemirror_mode": {
    "name": "ipython",
    "version": 3
   },
   "file_extension": ".py",
   "mimetype": "text/x-python",
   "name": "python",
   "nbconvert_exporter": "python",
   "pygments_lexer": "ipython3",
   "version": "3.9.5"
  }
 },
 "nbformat": 4,
 "nbformat_minor": 5
}
