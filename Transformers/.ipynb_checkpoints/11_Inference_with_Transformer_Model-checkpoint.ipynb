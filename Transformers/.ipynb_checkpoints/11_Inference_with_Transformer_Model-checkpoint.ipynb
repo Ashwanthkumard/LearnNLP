{
 "cells": [
  {
   "cell_type": "code",
   "execution_count": 1,
   "id": "442f9877",
   "metadata": {},
   "outputs": [
    {
     "name": "stdout",
     "output_type": "stream",
     "text": [
      "tf.Tensor([0. 0. 0. 0. 1. 1. 1.], shape=(7,), dtype=float32)\n",
      "Model: \"model\"\n",
      "__________________________________________________________________________________________________\n",
      " Layer (type)                   Output Shape         Param #     Connected to                     \n",
      "==================================================================================================\n",
      " input_1 (InputLayer)           [(None, 5, 512)]     0           []                               \n",
      "                                                                                                  \n",
      " multi_head_attention_42 (Multi  (None, 5, 512)      131776      ['input_1[0][0]',                \n",
      " HeadAttention)                                                   'input_1[0][0]',                \n",
      "                                                                  'input_1[0][0]']                \n",
      "                                                                                                  \n",
      " dropout_77 (Dropout)           (None, 5, 512)       0           ['multi_head_attention_42[0][0]']\n",
      "                                                                                                  \n",
      " add_normalization_72 (AddNorma  (None, 5, 512)      1024        ['input_1[0][0]',                \n",
      " lization)                                                        'dropout_77[0][0]']             \n",
      "                                                                                                  \n",
      " feed_forward_30 (FeedForward)  (None, 5, 512)       2099712     ['add_normalization_72[0][0]']   \n",
      "                                                                                                  \n",
      " dropout_78 (Dropout)           (None, 5, 512)       0           ['feed_forward_30[0][0]']        \n",
      "                                                                                                  \n",
      " add_normalization_73 (AddNorma  (None, 5, 512)      1024        ['add_normalization_72[0][0]',   \n",
      " lization)                                                        'dropout_78[0][0]']             \n",
      "                                                                                                  \n",
      "==================================================================================================\n",
      "Total params: 2,233,536\n",
      "Trainable params: 2,233,536\n",
      "Non-trainable params: 0\n",
      "__________________________________________________________________________________________________\n",
      "Model: \"model_1\"\n",
      "__________________________________________________________________________________________________\n",
      " Layer (type)                   Output Shape         Param #     Connected to                     \n",
      "==================================================================================================\n",
      " input_2 (InputLayer)           [(None, 5, 512)]     0           []                               \n",
      "                                                                                                  \n",
      " multi_head_attention_43 (Multi  (None, 5, 512)      131776      ['input_2[0][0]',                \n",
      " HeadAttention)                                                   'input_2[0][0]',                \n",
      "                                                                  'input_2[0][0]']                \n",
      "                                                                                                  \n",
      " dropout_79 (Dropout)           (None, 5, 512)       0           ['multi_head_attention_43[0][0]']\n",
      "                                                                                                  \n",
      " add_normalization_74 (AddNorma  (None, 5, 512)      1024        ['input_2[0][0]',                \n",
      " lization)                                                        'dropout_79[0][0]',             \n",
      "                                                                  'add_normalization_74[0][0]',   \n",
      "                                                                  'dropout_80[0][0]']             \n",
      "                                                                                                  \n",
      " multi_head_attention_44 (Multi  (None, 5, 512)      131776      ['add_normalization_74[0][0]',   \n",
      " HeadAttention)                                                   'input_2[0][0]',                \n",
      "                                                                  'input_2[0][0]']                \n",
      "                                                                                                  \n",
      " dropout_80 (Dropout)           (None, 5, 512)       0           ['multi_head_attention_44[0][0]']\n",
      "                                                                                                  \n",
      " feed_forward_31 (FeedForward)  (None, 5, 512)       2099712     ['add_normalization_74[1][0]']   \n",
      "                                                                                                  \n",
      " dropout_81 (Dropout)           (None, 5, 512)       0           ['feed_forward_31[0][0]']        \n",
      "                                                                                                  \n",
      " add_normalization_76 (AddNorma  (None, 5, 512)      1024        ['add_normalization_74[1][0]',   \n",
      " lization)                                                        'dropout_81[0][0]']             \n",
      "                                                                                                  \n",
      "==================================================================================================\n",
      "Total params: 2,365,312\n",
      "Trainable params: 2,365,312\n",
      "Non-trainable params: 0\n",
      "__________________________________________________________________________________________________\n",
      "<START>here is the bill<EOS> \n",
      " tf.Tensor([ 34   7  13 858   2], shape=(5,), dtype=int64)\n",
      "<START>er schlief eine stunde<EOS> \n",
      " tf.Tensor([   1   10  418   30 1879    2    0    0    0], shape=(9,), dtype=int64)\n",
      "Encoder sequence length: 5\n",
      "Decoder sequence length: 9\n",
      "\n",
      "Start of epoch 1\n",
      "Epoch 1 Step 0 Loss 8.2567 Accuracy 0.0000\n",
      "Epoch 1 Step 50 Loss 7.4113 Accuracy 0.0531\n",
      "Epoch 1 Step 100 Loss 6.6517 Accuracy 0.0985\n",
      "Epoch 1: Training Loss 6.1998, Training Accuracy 0.1303\n",
      "\n",
      "Start of epoch 2\n",
      "Epoch 2 Step 0 Loss 4.7747 Accuracy 0.2133\n",
      "Epoch 2 Step 50 Loss 4.3533 Accuracy 0.1807\n",
      "Epoch 2 Step 100 Loss 4.0414 Accuracy 0.1499\n",
      "Epoch 2: Training Loss 3.8143, Training Accuracy 0.1344\n"
     ]
    }
   ],
   "source": [
    "%run 10_Train_Transformers.ipynb"
   ]
  },
  {
   "cell_type": "code",
   "execution_count": 3,
   "id": "bb78242d",
   "metadata": {},
   "outputs": [],
   "source": [
    " # Define the dataset parameters\n",
    "enc_seq_length = 7 # Encoder sequence length \n",
    "dec_seq_length = 12 # Decoder sequence length \n",
    "enc_vocab_size = 2405 # Encoder vocabulary size \n",
    "dec_vocab_size = 3858 # Decoder vocabulary size\n",
    " # Create model\n",
    "inferencing_model = TransformerModel(enc_vocab_size, dec_vocab_size, enc_seq_length,\n",
    "                                      dec_seq_length, h, d_k, d_v, d_model, d_ff, n, 0)"
   ]
  },
  {
   "cell_type": "code",
   "execution_count": null,
   "id": "f926ad86",
   "metadata": {},
   "outputs": [],
   "source": [
    "class Translate(Module):\n",
    "    def __init__(self, inferencing_model, **kwargs):\n",
    "        super().__init__(**kwargs)\n",
    "        self.transformer = inference_model"
   ]
  }
 ],
 "metadata": {
  "kernelspec": {
   "display_name": "Python 3",
   "language": "python",
   "name": "python3"
  },
  "language_info": {
   "codemirror_mode": {
    "name": "ipython",
    "version": 3
   },
   "file_extension": ".py",
   "mimetype": "text/x-python",
   "name": "python",
   "nbconvert_exporter": "python",
   "pygments_lexer": "ipython3",
   "version": "3.9.5"
  }
 },
 "nbformat": 4,
 "nbformat_minor": 5
}
