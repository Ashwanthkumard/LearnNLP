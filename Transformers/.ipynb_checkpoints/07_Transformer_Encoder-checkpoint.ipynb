{
 "cells": [
  {
   "cell_type": "markdown",
   "id": "0c8a4777",
   "metadata": {},
   "source": [
    "# Transformer Encoder in Keras"
   ]
  },
  {
   "cell_type": "code",
   "execution_count": 2,
   "id": "0bdbd7b5",
   "metadata": {},
   "outputs": [],
   "source": [
    "from tensorflow.keras.layers import Dense,Layer"
   ]
  },
  {
   "cell_type": "code",
   "execution_count": 3,
   "id": "08c092f4",
   "metadata": {},
   "outputs": [],
   "source": [
    "class FeedForward(Layer):\n",
    "    def __init__(self, d_ff, d_model, **kwargs):\n",
    "        super().__init__(**kwargs)\n",
    "        self.fully_connected_1 = Dense(d_ff) # First fully connected layer\n",
    "        self.fully_connected_2 = Dense(d_model) # Second Fully connected layer\n",
    "        self.activation = ReLu() #Relu activation layer\n",
    "    \n",
    "    def call(self,x):\n",
    "        # The input is passed into the two fully-connected layers, with a ReLU in between\n",
    "        x_fc1 = self.fully_connected_1(x)\n",
    "        return self.fully_connected_2(self.activation(x_fc1))"
   ]
  },
  {
   "cell_type": "code",
   "execution_count": null,
   "id": "f461dd64",
   "metadata": {},
   "outputs": [],
   "source": [
    "class AddMormalization(Layer):\n",
    "    def __"
   ]
  }
 ],
 "metadata": {
  "kernelspec": {
   "display_name": "Python 3",
   "language": "python",
   "name": "python3"
  },
  "language_info": {
   "codemirror_mode": {
    "name": "ipython",
    "version": 3
   },
   "file_extension": ".py",
   "mimetype": "text/x-python",
   "name": "python",
   "nbconvert_exporter": "python",
   "pygments_lexer": "ipython3",
   "version": "3.9.5"
  }
 },
 "nbformat": 4,
 "nbformat_minor": 5
}
