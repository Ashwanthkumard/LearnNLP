{
 "cells": [
  {
   "cell_type": "markdown",
   "id": "254a3439",
   "metadata": {},
   "source": [
    "# Multi Head Attention"
   ]
  },
  {
   "cell_type": "code",
   "execution_count": 44,
   "id": "b8199c49",
   "metadata": {},
   "outputs": [],
   "source": [
    "from numpy import random\n",
    "from tensorflow import matmul, math, cast, float32, reshape, shape, transpose\n",
    "from tensorflow.keras.layers import Dense,Layer\n",
    "from tensorflow.keras.backend import softmax"
   ]
  },
  {
   "cell_type": "code",
   "execution_count": 45,
   "id": "1737af91",
   "metadata": {},
   "outputs": [],
   "source": [
    "class DotProductAttention(Layer):\n",
    "    def __init__(self,**kwargs):\n",
    "        super().__init__(**kwargs)\n",
    "    \n",
    "    def call(self, queries, keys, values, d_k, mask=None):\n",
    "        scores = matmul(queries,keys,transpose_b=True)/math.sqrt(cast(d_k,float32))\n",
    "        \n",
    "        #Apply mask to the attention scores\n",
    "        if mask is not None:\n",
    "            scores += -1e9 * mask\n",
    "        \n",
    "        #Computing the weights by a softmax operation\n",
    "        weights = softmax(scores)\n",
    "        \n",
    "        #Computing the attention by weighted sum of the value vectors\n",
    "        return matmul(weights, values)"
   ]
  },
  {
   "cell_type": "code",
   "execution_count": 63,
   "id": "e2935288",
   "metadata": {},
   "outputs": [],
   "source": [
    "class MultiHeadAttention(Layer):\n",
    "    def __init__(self, h, d_k, d_v, d_model, **kwargs):\n",
    "        super().__init__(**kwargs)\n",
    "        self.attention = DotProductAttention() #Scaled dot product attention\n",
    "        self.heads = h # Number of attention heads to use\n",
    "        self.d_k = d_k # Dimensionality of the linearly projected queries and keys\n",
    "        self.d_v = d_v # Dimensionality of the linearly projected values\n",
    "        self.W_q = Dense(d_k) # Learned projection matrix for the queries\n",
    "        self.W_k = Dense(d_k) # Learned projection matrix for the keys\n",
    "        self.W_v = Dense(d_v) # Learned projection matrix for the values\n",
    "        self.W_o = Dense(d_model) # Learned projection matrix for the multi-head output\n",
    "            \n",
    "    def reshape_tensor(self, x, heads, flag):\n",
    "        if flag:\n",
    "            x = reshape(x, shape=(shape(x)[0], shape(x)[1], heads, -1))\n",
    "            x = transpose(x, perm=(0, 2, 1, 3))\n",
    "        else:\n",
    "            x = transpose(x, perm=(0, 2, 1, 3))\n",
    "            x = reshape(x, shape=(shape(x)[0], shape(x)[1], -1))\n",
    "        return x\n",
    "    \n",
    "    def call(self, queries, keys, values, mask=None):\n",
    "        q_reshaped = self.reshape_tensor(self.W_q(queries), self.heads, True)\n",
    "        k_reshaped = self.reshape_tensor(self.W_k(keys), self.heads, True)\n",
    "        v_reshaped = self.reshape_tensor(self.W_v(values), self.heads, True)\n",
    "        o_reshaped = self.attention(q_reshaped, k_reshaped, v_reshaped, self.d_k, mask)\n",
    "        \n",
    "        output = self.reshape_tensor(o_reshaped, self.heads, False)\n",
    "        return self.W_o(output)"
   ]
  },
  {
   "cell_type": "markdown",
   "id": "d1a3c3a2",
   "metadata": {},
   "source": [
    "### Test your code"
   ]
  },
  {
   "cell_type": "code",
   "execution_count": 64,
   "id": "1a594ced",
   "metadata": {},
   "outputs": [],
   "source": [
    "h = 8 # Number of self-attention heads\n",
    "d_k = 64 # Dimensionality of the linearly projected queries and keys \n",
    "d_v = 64 # Dimensionality of the linearly projected values\n",
    "d_model = 512 # Dimensionality of the model sub-layers' outputs \n",
    "batch_size = 64 # Batch size from the training process"
   ]
  },
  {
   "cell_type": "code",
   "execution_count": 65,
   "id": "d6682a5c",
   "metadata": {},
   "outputs": [],
   "source": [
    "input_seq_length = 5 # Maximum length of the input sequence\n",
    "queries = random.random((batch_size, input_seq_length, d_k))\n",
    "keys = random.random((batch_size, input_seq_length, d_k))\n",
    "values = random.random((batch_size, input_seq_length, d_v))"
   ]
  },
  {
   "cell_type": "code",
   "execution_count": 66,
   "id": "305e5cf1",
   "metadata": {},
   "outputs": [],
   "source": [
    "multihead_attention = MultiHeadAttention(h, d_k, d_v, d_model)"
   ]
  },
  {
   "cell_type": "code",
   "execution_count": 67,
   "id": "2aaa20c2",
   "metadata": {},
   "outputs": [
    {
     "name": "stdout",
     "output_type": "stream",
     "text": [
      "tf.Tensor(\n",
      "[[[-0.11264286 -0.01115484 -0.16644283 ... -0.23892288 -0.09416207\n",
      "   -0.11787184]\n",
      "  [-0.11201126 -0.01037188 -0.16619633 ... -0.2415398  -0.09289355\n",
      "   -0.1176058 ]\n",
      "  [-0.11209292 -0.01087035 -0.16752669 ... -0.23917238 -0.09657675\n",
      "   -0.11846104]\n",
      "  [-0.11138599 -0.01168628 -0.16623661 ... -0.23790407 -0.0932257\n",
      "   -0.11753162]\n",
      "  [-0.11168005 -0.00991426 -0.16730416 ... -0.23987913 -0.09263724\n",
      "   -0.11674593]]\n",
      "\n",
      " [[-0.24275436 -0.14067279 -0.25067586 ... -0.13608369 -0.13150424\n",
      "   -0.0601126 ]\n",
      "  [-0.24326378 -0.13740389 -0.25057405 ... -0.13658503 -0.1285262\n",
      "   -0.06044139]\n",
      "  [-0.2414822  -0.13956553 -0.25132072 ... -0.13959934 -0.12791435\n",
      "   -0.06222455]\n",
      "  [-0.24204466 -0.14133568 -0.24985853 ... -0.1375808  -0.13070369\n",
      "   -0.06164463]\n",
      "  [-0.244182   -0.14027199 -0.2513249  ... -0.13857861 -0.12941486\n",
      "   -0.0616059 ]]\n",
      "\n",
      " [[-0.23782581 -0.06970622 -0.34440106 ... -0.09732933 -0.2258077\n",
      "   -0.16578905]\n",
      "  [-0.23736416 -0.07232311 -0.3429694  ... -0.09635789 -0.22988911\n",
      "   -0.16357379]\n",
      "  [-0.23649757 -0.07420199 -0.34225717 ... -0.09825394 -0.2324292\n",
      "   -0.16233465]\n",
      "  [-0.23567931 -0.0686454  -0.34421414 ... -0.0962214  -0.2268947\n",
      "   -0.16310695]\n",
      "  [-0.23716693 -0.07148436 -0.34215757 ... -0.09901312 -0.22745925\n",
      "   -0.16263866]]\n",
      "\n",
      " ...\n",
      "\n",
      " [[-0.15268256 -0.08077254 -0.07376833 ... -0.16208781  0.06743918\n",
      "   -0.12138213]\n",
      "  [-0.15005721 -0.08027027 -0.07274716 ... -0.16492558  0.06812929\n",
      "   -0.12430426]\n",
      "  [-0.15121955 -0.07878917 -0.07509102 ... -0.16252321  0.06747861\n",
      "   -0.12166716]\n",
      "  [-0.15205236 -0.07958543 -0.07392263 ... -0.16187307  0.0712077\n",
      "   -0.12184221]\n",
      "  [-0.15091482 -0.08035406 -0.07299446 ... -0.16550149  0.06657597\n",
      "   -0.12471409]]\n",
      "\n",
      " [[-0.03087413 -0.1392489  -0.11599214 ... -0.0207136   0.05381494\n",
      "   -0.00656575]\n",
      "  [-0.02780862 -0.13711028 -0.11476954 ... -0.02020225  0.0517825\n",
      "   -0.0074641 ]\n",
      "  [-0.03141716 -0.13852964 -0.1161992  ... -0.02104386  0.05227459\n",
      "   -0.00574315]\n",
      "  [-0.03027108 -0.14029285 -0.11571714 ... -0.01940981  0.05182023\n",
      "   -0.01017341]\n",
      "  [-0.03180534 -0.13835195 -0.11563662 ... -0.01831655  0.05187136\n",
      "   -0.00651729]]\n",
      "\n",
      " [[-0.13643399 -0.17529397 -0.12338999 ... -0.03684424 -0.00817469\n",
      "   -0.02041168]\n",
      "  [-0.13463391 -0.17271286 -0.12103275 ... -0.03080291 -0.00488829\n",
      "   -0.01702785]\n",
      "  [-0.13389046 -0.17289843 -0.1205176  ... -0.0340487  -0.00793168\n",
      "   -0.01974078]\n",
      "  [-0.1353926  -0.17348674 -0.1200719  ... -0.03513469 -0.00651894\n",
      "   -0.0225228 ]\n",
      "  [-0.13507025 -0.17464225 -0.11911973 ... -0.03407813 -0.01031027\n",
      "   -0.01667954]]], shape=(64, 5, 512), dtype=float32)\n"
     ]
    }
   ],
   "source": [
    "print(multihead_attention(queries, keys, values))"
   ]
  },
  {
   "cell_type": "code",
   "execution_count": null,
   "id": "0b5b84e6",
   "metadata": {},
   "outputs": [],
   "source": []
  },
  {
   "cell_type": "code",
   "execution_count": null,
   "id": "ae8377b5",
   "metadata": {},
   "outputs": [],
   "source": []
  }
 ],
 "metadata": {
  "kernelspec": {
   "display_name": "Python 3",
   "language": "python",
   "name": "python3"
  },
  "language_info": {
   "codemirror_mode": {
    "name": "ipython",
    "version": 3
   },
   "file_extension": ".py",
   "mimetype": "text/x-python",
   "name": "python",
   "nbconvert_exporter": "python",
   "pygments_lexer": "ipython3",
   "version": "3.9.5"
  }
 },
 "nbformat": 4,
 "nbformat_minor": 5
}
