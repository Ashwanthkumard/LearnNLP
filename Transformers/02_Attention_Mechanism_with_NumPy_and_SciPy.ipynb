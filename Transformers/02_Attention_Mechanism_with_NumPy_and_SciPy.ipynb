{
 "cells": [
  {
   "cell_type": "markdown",
   "id": "e4fe779a",
   "metadata": {},
   "source": [
    "## Attention Mechanism"
   ]
  },
  {
   "cell_type": "code",
   "execution_count": 4,
   "id": "a20c1d17",
   "metadata": {},
   "outputs": [],
   "source": [
    "import numpy as np\n",
    "from numpy import array\n",
    "from numpy import random\n",
    "from numpy import dot\n",
    "from scipy.special import softmax"
   ]
  },
  {
   "cell_type": "code",
   "execution_count": 5,
   "id": "548a23f9",
   "metadata": {},
   "outputs": [],
   "source": [
    "word_1 = np.array([1, 0, 0])\n",
    "word_2 = np.array([0, 1, 0])\n",
    "word_3 = np.array([1, 1, 0])\n",
    "word_4 = np.array([0, 0, 1])"
   ]
  },
  {
   "cell_type": "code",
   "execution_count": 6,
   "id": "25cc662f",
   "metadata": {},
   "outputs": [],
   "source": [
    "# stacking the word embeddings into a single array\n",
    "words = array([word_1, word_2, word_3, word_4])"
   ]
  },
  {
   "cell_type": "code",
   "execution_count": 7,
   "id": "947ec470",
   "metadata": {},
   "outputs": [
    {
     "data": {
      "text/plain": [
       "array([[1, 0, 0],\n",
       "       [0, 1, 0],\n",
       "       [1, 1, 0],\n",
       "       [0, 0, 1]])"
      ]
     },
     "execution_count": 7,
     "metadata": {},
     "output_type": "execute_result"
    }
   ],
   "source": [
    "words"
   ]
  },
  {
   "cell_type": "code",
   "execution_count": 8,
   "id": "b68a492f",
   "metadata": {},
   "outputs": [],
   "source": [
    "# generating the weight matrices\n",
    "random.seed(42)\n",
    "W_Q = random.randint(3, size=(3, 3))\n",
    "W_K = random.randint(3, size=(3, 3))\n",
    "W_V = random.randint(3, size=(3, 3))"
   ]
  },
  {
   "cell_type": "code",
   "execution_count": 14,
   "id": "f2c9171d",
   "metadata": {},
   "outputs": [],
   "source": [
    "# generating the queries, keys and values\n",
    "Q = words @ W_Q\n",
    "K = words @ W_K\n",
    "V = words @ W_V"
   ]
  },
  {
   "cell_type": "code",
   "execution_count": 15,
   "id": "5d99a1c6",
   "metadata": {},
   "outputs": [],
   "source": [
    "# scoring the query vectors against all key vectors\n",
    "scores = Q @ K.transpose()"
   ]
  },
  {
   "cell_type": "code",
   "execution_count": 16,
   "id": "00a74584",
   "metadata": {},
   "outputs": [
    {
     "data": {
      "text/plain": [
       "array([[ 8,  2, 10,  2],\n",
       "       [ 4,  0,  4,  0],\n",
       "       [12,  2, 14,  2],\n",
       "       [10,  4, 14,  3]])"
      ]
     },
     "execution_count": 16,
     "metadata": {},
     "output_type": "execute_result"
    }
   ],
   "source": [
    "scores"
   ]
  },
  {
   "cell_type": "code",
   "execution_count": 17,
   "id": "1657fa5d",
   "metadata": {},
   "outputs": [],
   "source": [
    "# computing the weights by a softmax operation\n",
    "weights = softmax(scores / K.shape[1] ** 0.5, axis=1)"
   ]
  },
  {
   "cell_type": "code",
   "execution_count": 18,
   "id": "f85834eb",
   "metadata": {},
   "outputs": [
    {
     "data": {
      "text/plain": [
       "array([[2.36089863e-01, 7.38987555e-03, 7.49130386e-01, 7.38987555e-03],\n",
       "       [4.54826323e-01, 4.51736775e-02, 4.54826323e-01, 4.51736775e-02],\n",
       "       [2.39275049e-01, 7.43870015e-04, 7.59237211e-01, 7.43870015e-04],\n",
       "       [8.99501754e-02, 2.81554063e-03, 9.05653685e-01, 1.58059922e-03]])"
      ]
     },
     "execution_count": 18,
     "metadata": {},
     "output_type": "execute_result"
    }
   ],
   "source": [
    "weights"
   ]
  },
  {
   "cell_type": "code",
   "execution_count": 19,
   "id": "2ec5437c",
   "metadata": {},
   "outputs": [],
   "source": [
    "# computing the attention by a weighted sum of the value vectors\n",
    "attention = weights @ V"
   ]
  },
  {
   "cell_type": "code",
   "execution_count": 20,
   "id": "8e3ea96d",
   "metadata": {},
   "outputs": [
    {
     "name": "stdout",
     "output_type": "stream",
     "text": [
      "[[0.98522025 1.74174051 0.75652026]\n",
      " [0.90965265 1.40965265 0.5       ]\n",
      " [0.99851226 1.75849334 0.75998108]\n",
      " [0.99560386 1.90407309 0.90846923]]\n"
     ]
    }
   ],
   "source": [
    "print(attention)"
   ]
  },
  {
   "cell_type": "code",
   "execution_count": null,
   "id": "0901aa9d",
   "metadata": {},
   "outputs": [],
   "source": []
  }
 ],
 "metadata": {
  "kernelspec": {
   "display_name": "Python 3",
   "language": "python",
   "name": "python3"
  },
  "language_info": {
   "codemirror_mode": {
    "name": "ipython",
    "version": 3
   },
   "file_extension": ".py",
   "mimetype": "text/x-python",
   "name": "python",
   "nbconvert_exporter": "python",
   "pygments_lexer": "ipython3",
   "version": "3.9.5"
  }
 },
 "nbformat": 4,
 "nbformat_minor": 5
}
