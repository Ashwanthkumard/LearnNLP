{
 "cells": [
  {
   "cell_type": "code",
   "execution_count": 2,
   "id": "4e17a37e",
   "metadata": {},
   "outputs": [],
   "source": [
    "from pandas import read_csv\n",
    "from sklearn.preprocessing import MinMaxScaler\n",
    "from tensorflow.keras import Model\n",
    "from tensorflow.keras.layers import Input, Dense, SimpleRNN \n",
    "from tensorflow.keras.layers import Layer\n",
    "from tensorflow.keras.metrics import mean_squared_error \n",
    "from tensorflow.keras.models import Sequential\n",
    "import tensorflow.keras.backend as K\n",
    "import numpy as np"
   ]
  },
  {
   "cell_type": "code",
   "execution_count": 3,
   "id": "2a468c00",
   "metadata": {},
   "outputs": [
    {
     "name": "stdout",
     "output_type": "stream",
     "text": [
      "[ 1.  2.  3.  5.  8. 13. 21. 34. 55. 89.]\n"
     ]
    }
   ],
   "source": [
    "def get_fib_seq(n, scale_data=True): # Get the Fibonacci sequence\n",
    "    seq = np.zeros(n)\n",
    "    fib_n1 = 0.0\n",
    "    fib_n = 1.0\n",
    "    for i in range(n):\n",
    "        seq[i] = fib_n1 + fib_n\n",
    "        fib_n1 = fib_n\n",
    "        fib_n = seq[i]\n",
    "    scaler = []\n",
    "    if scale_data:\n",
    "        scaler = MinMaxScaler(feature_range=(0, 1)) \n",
    "        seq = np.reshape(seq, (n, 1))\n",
    "        seq = scaler.fit_transform(seq).flatten()\n",
    "    return seq, scaler\n",
    "\n",
    "fib_seq, _ = get_fib_seq(10, False)\n",
    "print(fib_seq)"
   ]
  },
  {
   "cell_type": "code",
   "execution_count": 18,
   "id": "39738e8a",
   "metadata": {},
   "outputs": [
    {
     "name": "stdout",
     "output_type": "stream",
     "text": [
      "[[ 5.  8.]\n",
      " [13. 21.]\n",
      " [21. 34.]\n",
      " [ 2.  3.]\n",
      " [ 8. 13.]\n",
      " [34. 55.]\n",
      " [55. 89.]]\n",
      "trainX =  [[[ 5.]\n",
      "  [ 8.]]\n",
      "\n",
      " [[13.]\n",
      "  [21.]]\n",
      "\n",
      " [[21.]\n",
      "  [34.]]\n",
      "\n",
      " [[ 2.]\n",
      "  [ 3.]]\n",
      "\n",
      " [[ 8.]\n",
      "  [13.]]\n",
      "\n",
      " [[34.]\n",
      "  [55.]]\n",
      "\n",
      " [[55.]\n",
      "  [89.]]]\n",
      "trainY =  [ 13.  34.  55.   5.  21.  89. 144.]\n"
     ]
    }
   ],
   "source": [
    "def get_fib_XY(total_fib_numbers, time_steps, train_percent, scale_data=True): \n",
    "    dat, scaler = get_fib_seq(total_fib_numbers, scale_data)\n",
    "    Y_ind = np.arange(time_steps, len(dat), 1)\n",
    "    Y = dat[Y_ind]\n",
    "    rows_x = len(Y)\n",
    "    X = dat[0:rows_x]\n",
    "    for i in range(time_steps-1):\n",
    "        temp = dat[i+1:rows_x+i+1]\n",
    "    X = np.column_stack((X, temp))\n",
    "    \n",
    "    # random permutation with fixed seed\n",
    "    rand = np.random.RandomState(seed=13)\n",
    "    idx = rand.permutation(rows_x)\n",
    "    split = int(train_percent*rows_x)\n",
    "    train_ind = idx[0:split]\n",
    "    test_ind = idx[split:]\n",
    "    trainX = X[train_ind]\n",
    "    trainY = Y[train_ind]\n",
    "    testX = X[test_ind]\n",
    "    testY = Y[test_ind]\n",
    "    print(trainX)\n",
    "    trainX = np.reshape(trainX, (len(trainX), time_steps, 1)) \n",
    "    testX = np.reshape(testX, (len(testX), time_steps, 1))\n",
    "    return trainX, trainY, testX, testY, scaler\n",
    "\n",
    "trainX, trainY, testX, testY, scaler = get_fib_XY(12, 2, 0.7, False) \n",
    "print('trainX = ', trainX)\n",
    "print('trainY = ', trainY)\n"
   ]
  },
  {
   "cell_type": "code",
   "execution_count": null,
   "id": "e13453df",
   "metadata": {},
   "outputs": [],
   "source": [
    "class attention(Layer):\n",
    "    def __init__(self,**kwargs):\n",
    "        super().__init__(**kwargs)\n",
    "    \n",
    "    def build(self,input_shape):\n",
    "        self.W = self.add_weight(name='attention_weight', shape=(input_shape[-1],1),\n",
    "                                 initializer='random_normal', trainable=True)\n",
    "        self.b = self.add_weight(name='attention_weight', shape=(input_shape[1],1),\n",
    "                                initializer='zeros', trainable=True)\n",
    "        super().build(input_shape)\n",
    "    \n",
    "    def call(self,x):\n",
    "        "
   ]
  },
  {
   "cell_type": "code",
   "execution_count": null,
   "id": "93153d2e",
   "metadata": {},
   "outputs": [],
   "source": []
  }
 ],
 "metadata": {
  "kernelspec": {
   "display_name": "Python 3",
   "language": "python",
   "name": "python3"
  },
  "language_info": {
   "codemirror_mode": {
    "name": "ipython",
    "version": 3
   },
   "file_extension": ".py",
   "mimetype": "text/x-python",
   "name": "python",
   "nbconvert_exporter": "python",
   "pygments_lexer": "ipython3",
   "version": "3.9.5"
  }
 },
 "nbformat": 4,
 "nbformat_minor": 5
}
