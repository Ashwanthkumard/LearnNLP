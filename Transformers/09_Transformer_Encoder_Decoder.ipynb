{
 "cells": [
  {
   "cell_type": "markdown",
   "id": "c6e28b47",
   "metadata": {},
   "source": [
    "## Join Transformer Encoder and Decoder"
   ]
  },
  {
   "cell_type": "code",
   "execution_count": 12,
   "id": "ad37c873",
   "metadata": {},
   "outputs": [],
   "source": [
    "from tensorflow import math, cast, float32, ones, linalg\n",
    "from numpy import array\n",
    "from tensorflow.keras.layers import Input \n",
    "from tensorflow.keras import Model"
   ]
  },
  {
   "cell_type": "markdown",
   "id": "86fc50a0",
   "metadata": {},
   "source": [
    " Padding mask"
   ]
  },
  {
   "cell_type": "code",
   "execution_count": 3,
   "id": "b89e706f",
   "metadata": {},
   "outputs": [],
   "source": [
    "def padding_mask(input):\n",
    "    mask = math.equal(input, 0)\n",
    "    mask = cast(mask, float32)\n",
    "    \n",
    "    return mask"
   ]
  },
  {
   "cell_type": "code",
   "execution_count": 4,
   "id": "1f2558d6",
   "metadata": {},
   "outputs": [
    {
     "name": "stdout",
     "output_type": "stream",
     "text": [
      "tf.Tensor([0. 0. 0. 0. 1. 1. 1.], shape=(7,), dtype=float32)\n"
     ]
    }
   ],
   "source": [
    "input = array([1,2,3,4,0,0,0])\n",
    "print(padding_mask(input))"
   ]
  },
  {
   "cell_type": "code",
   "execution_count": 5,
   "id": "fc8fdce8",
   "metadata": {},
   "outputs": [],
   "source": [
    "def lookahead_mask(shape):\n",
    "    # Mask out future entries by marking them with a 1.0 \n",
    "    mask = 1 - linalg.band_part(ones((shape, shape)), -1, 0)\n",
    "    return mask"
   ]
  },
  {
   "cell_type": "code",
   "execution_count": 1,
   "id": "d770c1f3",
   "metadata": {},
   "outputs": [],
   "source": [
    "%run 07_Transformer_Encoder.ipynb #Magic command to import from the ipynb\n",
    "%run 08_Transformer_Decoder.ipynb"
   ]
  },
  {
   "cell_type": "code",
   "execution_count": 9,
   "id": "ebc2cd99",
   "metadata": {},
   "outputs": [],
   "source": [
    "\n",
    "class TransformerModel(Model):\n",
    "    def __init__(self, enc_vocab_size, dec_vocab_size, enc_seq_length, dec_seq_length,\n",
    "                h, d_k, d_v, d_model, d_ff_inner, n, rate, **kwargs):\n",
    "        super().__init__(**kwargs)\n",
    "        \n",
    "        # Set up the encoder\n",
    "        self.encoder = Encoder(enc_vocab_size, enc_seq_length, h, d_k, d_v, d_model,\n",
    "                                d_ff_inner, n, rate)\n",
    "        # Set up the decoder\n",
    "        self.decoder = Decoder(dec_vocab_size, dec_seq_length, h, d_k, d_v, d_model,\n",
    "                                d_ff_inner, n, rate)\n",
    "        # Define the final dense layer\n",
    "        self.model_last_layer = Dense(dec_vocab_size)\n",
    "    \n",
    "    def padding_mask(self,input):\n",
    "        mask = math.equal(input, 0)\n",
    "        mask = cast(mask, float32)\n",
    "        return mask\n",
    "    \n",
    "    def lookahead_mask(self,shape):\n",
    "        # Mask out future entries by marking them with a 1.0 \n",
    "        mask = 1 - linalg.band_part(ones((shape, shape)), -1, 0)\n",
    "        return mask\n",
    "    \n",
    "    def call(self, encoder_input, decoder_input, training):\n",
    "        enc_padding_mask = self.padding_mask(encoder_input)\n",
    "        # Create and combine padding and look-ahead masks to be fed into the decoder\n",
    "        dec_in_padding_mask = self.padding_mask(decoder_input)\n",
    "        dec_in_lookahead_mask = self.lookahead_mask(decoder_input.shape[1])\n",
    "        dec_in_lookahead_mask = maximum(dec_in_padding_mask, dec_in_lookahead_mask)\n",
    "        \n",
    "        # Feed the input into the encoder\n",
    "        encoder_output = self.encoder(encoder_input, enc_padding_mask, training)\n",
    "        \n",
    "        # Feed the encoder output into the decoder\n",
    "        decoder_output = self.decoder(decoder_input, encoder_output,\n",
    "                               dec_in_lookahead_mask, enc_padding_mask, training)\n",
    "                                      \n",
    "        # Pass the decoder output through a final dense layer\n",
    "        model_output = self.model_last_layer(decoder_output)\n",
    "        \n",
    "        return model_output\n",
    "\n",
    "        "
   ]
  },
  {
   "cell_type": "code",
   "execution_count": 15,
   "id": "e24df7b4",
   "metadata": {},
   "outputs": [],
   "source": [
    "h = 8 # Number of self-attention heads\n",
    "d_k = 64 # Dimensionality of the linearly projected queries and keys \n",
    "d_v = 64 # Dimensionality of the linearly projected values\n",
    "d_ff = 2048 # Dimensionality of the inner fully connected layer \n",
    "d_model = 512 # Dimensionality of the model sub-layers' outputs\n",
    "n = 6 # Number of layers in the encoder stack\n",
    "dropout_rate = 0.1 # Frequency of dropping the input units in the dropout layers\n",
    "\n",
    "\n",
    "enc_vocab_size = 20 # Vocabulary size for the encoder \n",
    "dec_vocab_size = 20 # Vocabulary size for the decoder\n",
    "enc_seq_length = 5 # Maximum length of the input sequence \n",
    "dec_seq_length = 5 # Maximum length of the target sequence ..."
   ]
  },
  {
   "cell_type": "code",
   "execution_count": 16,
   "id": "2185e5b3",
   "metadata": {},
   "outputs": [],
   "source": [
    "# from model import TransformerModel\n",
    "\n",
    "# Create model\n",
    "training_model = TransformerModel(enc_vocab_size, dec_vocab_size, enc_seq_length,\n",
    "                                   dec_seq_length, h, d_k, d_v, d_model, d_ff, n,\n",
    "                                   dropout_rate)"
   ]
  },
  {
   "cell_type": "code",
   "execution_count": 29,
   "id": "3087df89",
   "metadata": {},
   "outputs": [],
   "source": [
    "# class EncoderLayerWithGraph(EncoderLayer):\n",
    "#     def __init__(self, sequence_length, h, d_k, d_v, d_model, d_ff, rate,**kwargs):\n",
    "#         super().__init__(**kwargs)\n",
    "#         self.build(input_shape=[None, sequence_length, d_model]) \n",
    "#         self.d_model = d_model\n",
    "#         self.sequence_length = sequence_length\n",
    "#         self.multihead_attention = MultiHeadAttention(h, d_k, d_v, d_model) \n",
    "#         self.dropout1 = Dropout(rate)\n",
    "#         self.add_norm1 = AddNormalization()\n",
    "#         self.feed_forward = FeedForward(d_ff, d_model)\n",
    "#         self.dropout2 = Dropout(rate)\n",
    "#         self.add_norm2 = AddNormalization()\n",
    "    \n",
    "#     def build_graph(self):\n",
    "#         input_layer = Input(shape=(self.sequence_length, self.d_model))\n",
    "#         return Model(inputs=[input_layer], outputs=self.call(input_layer, None, True))\n",
    "                "
   ]
  },
  {
   "cell_type": "code",
   "execution_count": 30,
   "id": "6d5ac506",
   "metadata": {},
   "outputs": [],
   "source": [
    "# encoder = EncoderLayerWithGraph(enc_seq_length, h, d_k, d_v, d_model, d_ff, dropout_rate)\n",
    "# encoder.build_graph().summary()"
   ]
  },
  {
   "cell_type": "code",
   "execution_count": null,
   "id": "3cc688b8",
   "metadata": {},
   "outputs": [],
   "source": []
  }
 ],
 "metadata": {
  "kernelspec": {
   "display_name": "Python 3",
   "language": "python",
   "name": "python3"
  },
  "language_info": {
   "codemirror_mode": {
    "name": "ipython",
    "version": 3
   },
   "file_extension": ".py",
   "mimetype": "text/x-python",
   "name": "python",
   "nbconvert_exporter": "python",
   "pygments_lexer": "ipython3",
   "version": "3.9.5"
  }
 },
 "nbformat": 4,
 "nbformat_minor": 5
}
