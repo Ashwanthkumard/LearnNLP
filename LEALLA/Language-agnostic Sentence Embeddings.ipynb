{
 "cells": [
  {
   "cell_type": "markdown",
   "id": "2a120897",
   "metadata": {},
   "source": [
    "# LEALLA\n",
    "### Learning Lightweight Language-agnostic Sentence Embeddings with Knowledge Distillation\n",
    "#### Paper: https://arxiv.org/pdf/2302.08387.pdf"
   ]
  },
  {
   "cell_type": "code",
   "execution_count": 1,
   "id": "22dad1a5",
   "metadata": {},
   "outputs": [],
   "source": [
    "import tensorflow_hub as hub\n",
    "import tensorflow as tf\n",
    "import tensorflow_text as text\n",
    "import numpy as np"
   ]
  },
  {
   "cell_type": "code",
   "execution_count": 2,
   "id": "fe37e37c",
   "metadata": {},
   "outputs": [],
   "source": [
    "# pip install tensorflow_text"
   ]
  },
  {
   "cell_type": "code",
   "execution_count": 3,
   "id": "1e67e0cf",
   "metadata": {},
   "outputs": [
    {
     "name": "stdout",
     "output_type": "stream",
     "text": [
      "WARNING:tensorflow:Please fix your imports. Module tensorflow.python.training.tracking.data_structures has been moved to tensorflow.python.trackable.data_structures. The old module will be deleted in version 2.11.\n",
      "[[0.6628791  0.18278457 0.2560031 ]\n",
      " [0.14280055 0.7678191  0.19196478]\n",
      " [0.15308793 0.10031503 0.8378704 ]]\n",
      "[[0.91263676 0.45516834 0.24380797]\n",
      " [0.2345259  0.65163374 0.21599735]\n",
      " [0.26216242 0.22121471 0.6608679 ]]\n",
      "[[0.6203863  0.26901698 0.14951538]\n",
      " [0.27798057 0.5323863  0.15065356]\n",
      " [0.24729793 0.24758407 0.8123442 ]]\n"
     ]
    }
   ],
   "source": [
    "encoder = hub.KerasLayer(\"https://tfhub.dev/google/LEALLA/LEALLA-small/1\")\n",
    "# encoder = hub.KerasLayer(\"https://tfhub.dev/google/LEALLA/LEALLA-base/1\")\n",
    "# encoder = hub.KerasLayer(\"https://tfhub.dev/google/LEALLA/LEALLA-large/1\")\n",
    "\n",
    "english_sentences = tf.constant([\"dog\", \"Puppies are nice.\", \"I enjoy taking long walks along the beach with my dog.\"])\n",
    "italian_sentences = tf.constant([\"cane\", \"I cuccioli sono carini.\", \"Mi piace fare lunghe passeggiate lungo la spiaggia con il mio cane.\"])\n",
    "japanese_sentences = tf.constant([\"犬\", \"子犬はいいです\", \"私は犬と一緒にビーチを散歩するのが好きです\"])\n",
    "\n",
    "english_embeds = encoder(english_sentences)\n",
    "japanese_embeds = encoder(japanese_sentences)\n",
    "italian_embeds = encoder(italian_sentences)\n",
    "\n",
    "# English-Italian similarity\n",
    "print(np.matmul(english_embeds, np.transpose(italian_embeds)))\n",
    "\n",
    "# English-Japanese similarity\n",
    "print(np.matmul(english_embeds, np.transpose(japanese_embeds)))\n",
    "\n",
    "# Italian-Japanese similarity\n",
    "print(np.matmul(italian_embeds, np.transpose(japanese_embeds)))\n"
   ]
  }
 ],
 "metadata": {
  "kernelspec": {
   "display_name": "Python 3",
   "language": "python",
   "name": "python3"
  },
  "language_info": {
   "codemirror_mode": {
    "name": "ipython",
    "version": 3
   },
   "file_extension": ".py",
   "mimetype": "text/x-python",
   "name": "python",
   "nbconvert_exporter": "python",
   "pygments_lexer": "ipython3",
   "version": "3.9.5"
  }
 },
 "nbformat": 4,
 "nbformat_minor": 5
}
